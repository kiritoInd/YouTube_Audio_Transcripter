{
 "cells": [
  {
   "cell_type": "markdown",
   "metadata": {},
   "source": [
    "\n",
    "## This nootbook is for testing the functions of the class\n"
   ]
  },
  {
   "cell_type": "code",
   "execution_count": 3,
   "metadata": {},
   "outputs": [],
   "source": [
    "import whisper\n",
    "import os\n",
    "from pydub import AudioSegment\n",
    "import Transcipt_segment_classification as tsc\n",
    "import Youtube_audio as yta\n",
    "import Youtube_audio_segments as syta\n",
    "import csv\n",
    "file_path = 'links.csv'"
   ]
  },
  {
   "cell_type": "markdown",
   "metadata": {},
   "source": [
    "### Extract audio in segments for classification in whisper"
   ]
  },
  {
   "cell_type": "code",
   "execution_count": 4,
   "metadata": {},
   "outputs": [],
   "source": [
    "# output_path = \".\"\n",
    "# Extract yt video in segments \n",
    "\n",
    "# num_segments  = ytd.download_youtube_audio_segments(\"https://www.youtube.com/watch?v=xTY3kPmDrOM&ab_channel=GMRTranscriptionServicesInc\"    , output_path )\n",
    "\n",
    "# model = whisper.load_model(\"base\")\n",
    "# tsc.transcribe_audio(num_segments  , model)"
   ]
  },
  {
   "cell_type": "markdown",
   "metadata": {},
   "source": [
    "### Extract audio in single mp3"
   ]
  },
  {
   "cell_type": "code",
   "execution_count": 5,
   "metadata": {},
   "outputs": [
    {
     "name": "stdout",
     "output_type": "stream",
     "text": [
      "Existing file deleted.\n",
      "MoviePy - Writing audio in .\\audio1.mp3\n"
     ]
    },
    {
     "name": "stderr",
     "output_type": "stream",
     "text": [
      "                                                                      \r"
     ]
    },
    {
     "name": "stdout",
     "output_type": "stream",
     "text": [
      "MoviePy - Done.\n",
      "Audio downloaded successfully as MP3!\n",
      "Existing file deleted.\n",
      "MoviePy - Writing audio in .\\audio2.mp3\n"
     ]
    },
    {
     "name": "stderr",
     "output_type": "stream",
     "text": [
      "                                                                    \r"
     ]
    },
    {
     "name": "stdout",
     "output_type": "stream",
     "text": [
      "MoviePy - Done.\n",
      "Audio downloaded successfully as MP3!\n",
      "Existing file deleted.\n",
      "MoviePy - Writing audio in .\\audio3.mp3\n"
     ]
    },
    {
     "name": "stderr",
     "output_type": "stream",
     "text": [
      "                                                                      "
     ]
    },
    {
     "name": "stdout",
     "output_type": "stream",
     "text": [
      "MoviePy - Done.\n",
      "Audio downloaded successfully as MP3!\n"
     ]
    },
    {
     "name": "stderr",
     "output_type": "stream",
     "text": [
      "\r"
     ]
    }
   ],
   "source": [
    "# Open the CSV file and read each link\n",
    "output_path = \".\"\n",
    "\n",
    "with open(file_path, 'r') as file:\n",
    "    reader = csv.reader(file)\n",
    "    i = 1\n",
    "    for row in reader:\n",
    "        link = row[0]\n",
    "        yta.download_youtube_audio(link  , output_path , i)\n",
    "        i += 1\n"
   ]
  },
  {
   "cell_type": "code",
   "execution_count": 6,
   "metadata": {},
   "outputs": [
    {
     "name": "stdout",
     "output_type": "stream",
     "text": [
      "Video 1 transcription:\n",
      " What do you think girls want from men? Good question. Do you want the truth or a lie? No, tell me. Do you want the truth or a lie? Of course. Of course, they all say truth. Well, the truth. You could just tell me the truth. Then you tell me the truth. They cry. Every time. What women want from men? Well, the first thing we have to understand is that it depends. Right? Of course, it depends. It depends on how old the woman is, what part of her life she's in, if she's looking for excitement and adventure, or if she's looking for a family and to settle down, it completely depends. But in general, if a woman is going to dedicate herself to a man, then that man has to be all-encompassing. It has to be a man who can fix most of her problems. He needs to provide stability and safety, which everybody knows. But not many people consider that he also has to provide drama for her. He also has to be entertaining for her.\n",
      "Video 2 transcription:\n",
      " Let's make tea. Do it with me. You read red? I read green. Can I get you a drink? Tea or coffee? How do you take it? Here you are. Great work. Now let's try it again.\n",
      "Video 3 transcription:\n",
      " Wondering how to pass a transcription test? We are here to help you out. A general transcriptionist usually does not need prior education or experience to get transcription jobs, but must pass a test based on typing speed and accuracy in spelling and grammar. Here are some tips to remember. Firstly, you need to type fairly fast for the sake of being productive and meeting deadlines. Find out what the company's minimum typing speed is. Strictor companies tend to set a minimum level of around 50 words per minute, while more flexible firms might go as low as 25 words per minute, or perhaps no minimum at all if deadlines are not as important. You can improve your typing speed by searching for online typing tutorials. Generally speaking, your hands and fingers need to be placed properly and comfortably, instead of using the very slow one finger at a time method. Memorizing where letters and numbers are placed on the keyboard will help accelerate the learning process. Secondly, you should have a deep vocabulary and understanding a professional versus common or colloquial usage of terminology and structure. Thirdly, have spell check on your computer to double check your spelling. Fourthly, download any popular and free transcription software to help you practice transcribing before taking the test. Last but not least, adhere to instructions and follow the style guide. Proofread your work before submitting and run a spell check. For more tips to succeed as a transcriptionist, subscribe to our YouTube channel.\n",
      "Transcription output saved to 'transcription_output.csv'\n"
     ]
    }
   ],
   "source": [
    "model = whisper.load_model(\"base\")\n",
    "with open(\"transcription_output.csv\", \"w\", newline='', encoding='utf-8') as csvfile:\n",
    "    fieldnames = ['Video', 'Transcription']\n",
    "    writer = csv.DictWriter(csvfile, fieldnames=fieldnames)\n",
    "    writer.writeheader()\n",
    "\n",
    "    for x in range(1, i): \n",
    "        result = model.transcribe(f\"audio{x}.mp3\")\n",
    "        transcription_text = result[\"text\"]\n",
    "\n",
    "        writer.writerow({'Video': f\"Video {x}\", 'Transcription': transcription_text})\n",
    "\n",
    "        print(f\"Video {x} transcription:\")\n",
    "        print(transcription_text)\n",
    "\n",
    "print(\"Transcription output saved to 'transcription_output.csv'\")"
   ]
  }
 ],
 "metadata": {
  "kernelspec": {
   "display_name": "Python 3",
   "language": "python",
   "name": "python3"
  },
  "language_info": {
   "codemirror_mode": {
    "name": "ipython",
    "version": 3
   },
   "file_extension": ".py",
   "mimetype": "text/x-python",
   "name": "python",
   "nbconvert_exporter": "python",
   "pygments_lexer": "ipython3",
   "version": "3.11.8"
  }
 },
 "nbformat": 4,
 "nbformat_minor": 2
}
